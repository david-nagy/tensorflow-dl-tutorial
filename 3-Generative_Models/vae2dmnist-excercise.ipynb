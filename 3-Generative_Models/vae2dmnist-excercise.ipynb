{
  "cells": [
    {
      "cell_type": "markdown",
      "source": [
        "## 3.1 Variational autoencoder"
      ],
      "metadata": {}
    },
    {
      "cell_type": "markdown",
      "source": [
        "[Auto-Encoding Variational Bayes (Kingma, Welling, 2013)](https://arxiv.org/abs/1312.6114)"
      ],
      "metadata": {}
    },
    {
      "cell_type": "code",
      "source": [
        "import tensorflow as tf\n",
        "import numpy as np\n",
        "import matplotlib.pyplot as plt\n",
        "%matplotlib inline"
      ],
      "outputs": [],
      "execution_count": 2,
      "metadata": {
        "id": "K__ySwAGTwtA",
        "colab_type": "code",
        "colab": {
          "autoexec": {
            "startup": false,
            "wait_interval": 0
          }
        }
      }
    },
    {
      "cell_type": "markdown",
      "source": [
        "Import the MNIST dataset in the same way as for the perceptron."
      ],
      "metadata": {}
    },
    {
      "cell_type": "code",
      "source": [
        "from tensorflow.examples.tutorials.mnist import input_data\n",
        "\n",
        "mnist = input_data.read_data_sets('MNIST_data', one_hot=True)\n",
        "\nplt.imshow(np.reshape(-mnist.train.images[4242], (28, 28)), interpolation='none');"
      ],
      "outputs": [
        {
          "output_type": "stream",
          "name": "stdout",
          "text": [
            "Extracting MNIST_data/train-images-idx3-ubyte.gz\n",
            "Extracting MNIST_data/train-labels-idx1-ubyte.gz\n",
            "Extracting MNIST_data/t10k-images-idx3-ubyte.gz\n",
            "Extracting MNIST_data/t10k-labels-idx1-ubyte.gz\n"
          ]
        },
        {
          "output_type": "display_data",
          "data": {
            "text/plain": [
              "<matplotlib.figure.Figure at 0x10a196f28>"
            ],
            "image/png": "[encoded data removed]"
          },
          "metadata": {}
        }
      ],
      "execution_count": 3,
      "metadata": {
        "id": "Ba6opXJcTwtN",
        "colab_type": "code",
        "colab": {
          "autoexec": {
            "startup": false,
            "wait_interval": 0
          },
          "output_extras": [
            {
              "item_id": 3
            },
            {
              "item_id": 4
            }
          ],
          "base_uri": "https://localhost:8080/",
          "height": 350
        },
        "outputId": "382d639b-4020-4dd3-cb9d-be167b0a384c",
        "executionInfo": {
          "status": "ok",
          "timestamp": 1510921011250,
          "user_tz": -60,
          "elapsed": 1143,
          "user": {
            "displayName": "David Nagy",
            "photoUrl": "https://lh3.googleusercontent.com/a/default-user=s128",
            "userId": "116820342271745675144"
          }
        }
      }
    },
    {
      "cell_type": "markdown",
      "source": [
        "## Encoder"
      ],
      "metadata": {
        "id": "XXLxdpyUTwtW",
        "colab_type": "text"
      }
    },
    {
      "cell_type": "markdown",
      "source": [
        "Create a placeholder called `x` for data minibatches of size 64. Then create two fully connected layers in the same way as for the classifier, but here with softplus nonlinearities instead of sigmoids (`tf.nn.softplus`). The last layer should map with a linear trainsformation into the parameters of the gaussian posterior. These should for now be two n_z dimensional vector variables named `z_mean` and `z_log_sigma_sq`."
      ],
      "metadata": {}
    },
    {
      "cell_type": "code",
      "source": [
        "n_z = 2 #Dimension of the latent space\n",
        "batch_size = 64"
      ],
      "outputs": [],
      "execution_count": null,
      "metadata": {
        "collapsed": false,
        "outputHidden": false,
        "inputHidden": false
      }
    },
    {
      "cell_type": "code",
      "source": [],
      "outputs": [],
      "execution_count": null,
      "metadata": {
        "collapsed": false,
        "outputHidden": false,
        "inputHidden": false
      }
    },
    {
      "cell_type": "markdown",
      "source": [
        "Now define the sampling from the variational posterior, where we need to generate z samples for the whole minibatch."
      ],
      "metadata": {}
    },
    {
      "cell_type": "code",
      "source": [
        "eps = tf.random_normal((batch_size, n_z), 0, 1, dtype=tf.float32) # Adding a random number\n",
        "z = tf.add(z_mean, tf.multiply(tf.sqrt(tf.exp(z_log_sigma_sq)), eps))  # The sampled z"
      ],
      "outputs": [],
      "execution_count": 5,
      "metadata": {
        "id": "_WHGDYExTwta",
        "colab_type": "code",
        "colab": {
          "autoexec": {
            "startup": false,
            "wait_interval": 0
          }
        }
      }
    },
    {
      "cell_type": "markdown",
      "source": [
        "## Decoder"
      ],
      "metadata": {
        "id": "ONyo-8ZATwtZ",
        "colab_type": "text"
      }
    },
    {
      "cell_type": "markdown",
      "source": [
        "The generative model or decoder takes the latent $z$ values as inputs and generates datapoints from them. Define a two-layer fully connected network again to use as a generative model of digits. The last layer should map linearly into a vector of mean pixel values named `x_reconstr_mean`."
      ],
      "metadata": {}
    },
    {
      "cell_type": "code",
      "source": [],
      "outputs": [],
      "execution_count": null,
      "metadata": {
        "collapsed": false,
        "outputHidden": false,
        "inputHidden": false
      }
    },
    {
      "cell_type": "markdown",
      "source": [
        "## Loss function"
      ],
      "metadata": {
        "id": "kmPvT_ZeTwte",
        "colab_type": "text"
      }
    },
    {
      "cell_type": "markdown",
      "source": [
        "The ELBO loss consists of the reconstruction and regularization terms. The first is the expected value of the log pdf of data conditioned on the inferred z value, the second is the kl divergence between the inferred posterior and the prior. The KL term can be calculated analytically for the case where both the prior and the posterior are gaussians."
      ],
      "metadata": {}
    },
    {
      "cell_type": "code",
      "source": [],
      "outputs": [],
      "execution_count": 11,
      "metadata": {
        "id": "x5QNNBwBTwtf",
        "colab_type": "code",
        "colab": {
          "autoexec": {
            "startup": false,
            "wait_interval": 0
          }
        }
      }
    },
    {
      "cell_type": "markdown",
      "source": [
        "## Training"
      ],
      "metadata": {
        "id": "QdC1s3eCTwti",
        "colab_type": "text"
      }
    },
    {
      "cell_type": "code",
      "source": [
        "runs = 10 #Set to 0, for no training\n",
        "n_samples = mnist.train.num_examples\n",
        "init = tf.global_variables_initializer()\n",
        "saver = tf.train.Saver()\n",
        "with tf.Session() as sess:\n",
        "    sess.run(init)\n",
        "    batch_xs, _ = mnist.train.next_batch(batch_size)\n",
        "    print(batch_xs.shape)\n",
        "    dd = sess.run([cost], feed_dict={x: batch_xs})\n",
        "    print('Test run after starting {}'.format(dd))\n",
        "\n",
        "    for epoch in range(runs):\n",
        "        avg_cost = 0.\n",
        "        total_batch = int(n_samples / batch_size)\n",
        "        # Loop over all batches\n",
        "        for i in range(total_batch):\n",
        "            batch_xs, _ = mnist.train.next_batch(batch_size)\n",
        "            _,d = sess.run((optimizer, cost), feed_dict={x: batch_xs})\n",
        "            avg_cost += d / n_samples * batch_size\n",
        "\n",
        "        # Display logs per epoch step\n",
        "        if epoch % 1 == 0:\n",
        "            save_path = saver.save(sess, \"./model.ckpt\") #Saves the weights (not the graph)\n",
        "            print(\"Model saved in file: {}\".format(save_path))\n",
        "            print(\"Epoch:\", '%04d' % (epoch+1), \"cost=\", \"{:.9f}\".format(avg_cost))"
      ],
      "outputs": [],
      "execution_count": null,
      "metadata": {
        "collapsed": false,
        "outputHidden": false,
        "inputHidden": false
      }
    },
    {
      "cell_type": "markdown",
      "source": [
        "## Load and analyse model"
      ],
      "metadata": {
        "id": "u5G7heLTTwtm",
        "colab_type": "text"
      }
    },
    {
      "cell_type": "code",
      "source": [
        "check_point_file = \"./model.ckpt\""
      ],
      "outputs": [],
      "execution_count": 13,
      "metadata": {
        "id": "xbp19H5yTwtn",
        "colab_type": "code",
        "colab": {
          "autoexec": {
            "startup": false,
            "wait_interval": 0
          }
        }
      }
    },
    {
      "cell_type": "code",
      "source": [
        "saver = tf.train.Saver()\n",
        "with tf.Session() as sess:\n",
        "    saver.restore(sess, check_point_file)\n",
        "    print(\"Model restored.\")\n",
        "    x_sample = mnist.test.next_batch(64)[0]\n",
        "    x_reconstruct,z_vals,z_mean_val,z_log_sigma_sq_val  = sess.run((x_reconstr_mean,z, z_mean, z_log_sigma_sq), feed_dict={x: x_sample})\n",
        "\n",
        "    plt.figure(figsize=(8, 12))\n",
        "    for i in range(5):\n",
        "        plt.subplot(5, 3, 3*i + 1)\n",
        "        plt.imshow(x_sample[i].reshape(28, 28), vmin=0, vmax=1,  interpolation='none',cmap=plt.get_cmap('gray'))\n",
        "        plt.title(\"Test input\")\n",
        "        \n",
        "        #plt.colorbar()\n",
        "        plt.subplot(5, 3, 3*i + 2)\n",
        "        plt.scatter(z_vals[:,0],z_vals[:,1], c='gray', alpha=0.5)\n",
        "        plt.scatter(z_mean_val[i,0],z_mean_val[i,1], c='green', s=64, alpha=0.5)\n",
        "        plt.scatter(z_vals[i,0],z_vals[i,1], c='blue', s=16, alpha=0.5)\n",
        "       \n",
        "        plt.xlim((-3,3))\n",
        "        plt.ylim((-3,3))\n",
        "        plt.title(\"Latent Space\")\n",
        "        \n",
        "        plt.subplot(5, 3, 3*i + 3)\n",
        "        plt.imshow(x_reconstruct[i].reshape(28, 28), vmin=0, vmax=1, interpolation='none',cmap=plt.get_cmap('gray'))\n",
        "        plt.title(\"Reconstruction\")\n",
        "        #plt.colorbar()\n",
        "    plt.tight_layout()\n",
        "    \n",
        "    "
      ],
      "outputs": [],
      "execution_count": null,
      "metadata": {
        "collapsed": false,
        "outputHidden": false,
        "inputHidden": false
      }
    },
    {
      "cell_type": "code",
      "source": [
        "saver = tf.train.Saver()\n",
        "with tf.Session() as sess:\n",
        "    saver.restore(sess, check_point_file)\n",
        "    print(\"Model restored.\")\n",
        "    d = np.zeros([batch_size,2],dtype='float32')\n",
        "    d[0,] = [1,2]\n",
        "    x_reconstruct = sess.run(x_reconstr_mean, feed_dict={z: d})\n",
        "    plt.imshow(x_reconstruct[0].reshape(28, 28), vmin=0, vmax=1,interpolation='none',cmap=plt.get_cmap('gray'))"
      ],
      "outputs": [],
      "execution_count": null,
      "metadata": {
        "collapsed": false,
        "outputHidden": false,
        "inputHidden": false
      }
    },
    {
      "cell_type": "code",
      "source": [
        "nx = ny = 20\n",
        "x_values = np.linspace(-3, 3, nx)\n",
        "y_values = np.linspace(-3, 3, ny)\n",
        "canvas = np.empty((28*ny, 28*nx))\n",
        "saver = tf.train.Saver()\n",
        "with tf.Session() as sess:\n",
        "    saver.restore(sess, check_point_file)\n",
        "    for i, yi in enumerate(x_values):\n",
        "        for j, xi in enumerate(y_values):\n",
        "            z_mu = np.array([[xi, yi]])\n",
        "            d[0] = z_mu\n",
        "            x_mean = sess.run(x_reconstr_mean, feed_dict={z: d})\n",
        "            canvas[(nx-i-1)*28:(nx-i)*28, j*28:(j+1)*28] = x_mean[0].reshape(28, 28)\n",
        "\n",
        "plt.figure(figsize=(8, 10))        \n",
        "Xi, Yi = np.meshgrid(x_values, y_values)\n",
        "plt.imshow(canvas, origin=\"upper\", vmin=0, vmax=1,interpolation='none',cmap=plt.get_cmap('gray'))\n",
        "plt.tight_layout()"
      ],
      "outputs": [],
      "execution_count": null,
      "metadata": {
        "collapsed": false,
        "outputHidden": false,
        "inputHidden": false
      }
    },
    {
      "cell_type": "code",
      "source": [
        "saver = tf.train.Saver()\n",
        "all_z = np.zeros((1,2))\n",
        "all_z_vals = np.zeros((1,2))\n",
        "with tf.Session() as sess:\n",
        "    saver.restore(sess, check_point_file)\n",
        "    total_batch = int(n_samples / batch_size)\n",
        "    # Loop over all batches\n",
        "    for i in range(total_batch):\n",
        "        batch_xs, _ = mnist.train.next_batch(batch_size)\n",
        "        x_reconstruct,z_vals,z_mean_val,z_log_sigma_sq_val  = sess.run(\n",
        "            (x_reconstr_mean,z, z_mean, z_log_sigma_sq), feed_dict={x: batch_xs})\n",
        "        all_z = np.vstack((all_z, z_mean_val))\n",
        "        all_z_vals = np.vstack((all_z_vals, z_vals))"
      ],
      "outputs": [
        {
          "output_type": "stream",
          "name": "stdout",
          "text": [
            "INFO:tensorflow:Restoring parameters from ./model.ckpt\n"
          ]
        }
      ],
      "execution_count": 17,
      "metadata": {
        "id": "Zf_RSVNGTwty",
        "colab_type": "code",
        "colab": {
          "autoexec": {
            "startup": false,
            "wait_interval": 0
          },
          "output_extras": [
            {
              "item_id": 1
            }
          ],
          "base_uri": "https://localhost:8080/",
          "height": 34
        },
        "outputId": "dea32b47-ce6a-4dec-b51f-3acb009a2fe7",
        "executionInfo": {
          "status": "ok",
          "timestamp": 1510929167236,
          "user_tz": -60,
          "elapsed": 12417,
          "user": {
            "displayName": "David Nagy",
            "photoUrl": "https://lh3.googleusercontent.com/a/default-user=s128",
            "userId": "116820342271745675144"
          }
        }
      }
    },
    {
      "cell_type": "code",
      "source": [
        "plt.figure(figsize=(25,10))\n",
        "plt.subplot(1,2,1)\n",
        "plt.scatter(all_z[:,0], all_z[:,1], s=0.2)\n",
        "plt.xlim(-3,3)\n",
        "plt.ylim(-3,3)\n",
        "plt.subplot(1,2,2)\n",
        "plt.hist2d(all_z[:,0], all_z[:,1], (50, 50), cmap=plt.cm.jet)\n",
        "plt.colorbar()"
      ],
      "outputs": [],
      "execution_count": null,
      "metadata": {
        "collapsed": false,
        "outputHidden": false,
        "inputHidden": false
      }
    },
    {
      "cell_type": "code",
      "source": [
        "plt.close()\n",
        "plt.figure(figsize=(25,10))\n",
        "plt.subplot(1,2,1)\n",
        "plt.scatter(all_z[:,0], all_z[:,1], s=0.2)\n",
        "plt.subplot(1,2,2)\n",
        "plt.scatter(all_z_vals[:,0], all_z_vals[:,1], s=0.2)\n",
        "plt.xlim(-3,3)\n",
        "plt.ylim(-3,3)"
      ],
      "outputs": [],
      "execution_count": 0,
      "metadata": {
        "id": "bPH13CcVYS1F",
        "colab_type": "code",
        "colab": {
          "autoexec": {
            "startup": false,
            "wait_interval": 0
          }
        }
      }
    }
  ],
  "metadata": {
    "colab": {
      "name": "vae2dmnist.ipynb",
      "version": "0.3.2",
      "views": {},
      "default_view": {},
      "provenance": [],
      "collapsed_sections": []
    },
    "kernelspec": {
      "name": "python3",
      "language": "python",
      "display_name": "Python 3"
    },
    "kernel_info": {
      "name": "python3"
    },
    "language_info": {
      "name": "python",
      "version": "3.6.0",
      "mimetype": "text/x-python",
      "codemirror_mode": {
        "name": "ipython",
        "version": 3
      },
      "pygments_lexer": "ipython3",
      "nbconvert_exporter": "python",
      "file_extension": ".py"
    },
    "nteract": {
      "version": "0.2.0"
    }
  },
  "nbformat": 4,
  "nbformat_minor": 0
}