{
  "cells": [
    {
      "cell_type": "markdown",
      "source": [
        "# 1. Basics\n",
        "\n",
        "## 1.1 Graphs, sessions, variables\n",
        "\n[Slides covering similar ground](http://web.stanford.edu/class/cs224n/lectures/cs224n-2017-tensorflow.pdf)."
      ],
      "metadata": {}
    },
    {
      "cell_type": "code",
      "source": [
        "import numpy as np \n",
        "import tensorflow as tf\n",
        "from helper import *"
      ],
      "outputs": [],
      "execution_count": 4,
      "metadata": {
        "collapsed": false,
        "outputHidden": false,
        "inputHidden": false
      }
    },
    {
      "cell_type": "markdown",
      "source": [
        "Create a model where $c=a+b$, with $a$ and $b$ having [constant](https://www.tensorflow.org/api_docs/python/tf/constant) values (hint: 'tf.constant')"
      ],
      "metadata": {}
    },
    {
      "cell_type": "code",
      "source": [],
      "outputs": [],
      "execution_count": null,
      "metadata": {
        "collapsed": false,
        "outputHidden": false,
        "inputHidden": false
      }
    },
    {
      "cell_type": "markdown",
      "source": [
        "The [computation graph](https://www.tensorflow.org/programmers_guide/graphs) is now created which you can inspect with:\n",
        "`show_graph(tf.get_default_graph().as_graph_def())`"
      ],
      "metadata": {}
    },
    {
      "cell_type": "code",
      "source": [],
      "outputs": [],
      "execution_count": 1,
      "metadata": {
        "collapsed": false,
        "outputHidden": false,
        "inputHidden": false
      }
    },
    {
      "cell_type": "markdown",
      "source": [
        "To use the graph for performing computations, you will have to create a session. You can create an interactive session which is useful for jupyter notebooks such as this with `sess = tf.InteractiveSession()`, or just a normal session with either\n",
        "\n",
        "`sess = tf.Session()`\n",
        "\n",
        "or\n",
        "\n",
        "`with tf.Session() as sess:`\n",
        "\n",
        "You can then enter `sess.run()` to run the session and compute something with the graph. Sessions can be closed with `sess.close()`. \n",
        "\n**Start an interactive session and compute the value of $c$.**"
      ],
      "metadata": {}
    },
    {
      "cell_type": "code",
      "source": [],
      "outputs": [],
      "execution_count": null,
      "metadata": {
        "collapsed": false,
        "outputHidden": false,
        "inputHidden": false
      }
    },
    {
      "cell_type": "markdown",
      "source": [
        "Anything else you define now will be added to the same graph. If you want to avoid this, you can reset the default graph with `tf.reset_default_graph()`. **Reset it now.**"
      ],
      "metadata": {}
    },
    {
      "cell_type": "code",
      "source": [],
      "outputs": [],
      "execution_count": null,
      "metadata": {
        "collapsed": false,
        "outputHidden": false,
        "inputHidden": false
      }
    },
    {
      "cell_type": "markdown",
      "source": [
        "Now instead of using constants, try feeding in an entire dataset as values for $a$ and $b$. For this, we will need to use placeholders. Placeholders are nodes in the graph which get their values during runtime. The values for placeholders have to be fed in through a [python dictionary object](https://docs.python.org/2/tutorial/datastructures.html#dictionaries) inside `sess.run()` as a second argument. **Calculate $c=a+b$ where $a$ and $b$ are placeholders and take their vlaues from numpy vectors.**"
      ],
      "metadata": {}
    },
    {
      "cell_type": "code",
      "source": [],
      "outputs": [],
      "execution_count": null,
      "metadata": {
        "collapsed": false,
        "outputHidden": false,
        "inputHidden": false
      }
    },
    {
      "cell_type": "markdown",
      "source": [
        "Now try adding gaussian noise to the output via an $\\epsilon\\sim Normal$ [tensorflow variable](https://www.tensorflow.org/programmers_guide/variables). Variables have to be initialised after starting the sessions with `sess.run(tf.global_variables_initializer())`."
      ],
      "metadata": {}
    },
    {
      "cell_type": "code",
      "source": [],
      "outputs": [],
      "execution_count": null,
      "metadata": {
        "collapsed": false,
        "outputHidden": false,
        "inputHidden": false
      }
    }
  ],
  "metadata": {
    "kernelspec": {
      "name": "python3",
      "language": "python",
      "display_name": "Python 3"
    },
    "kernel_info": {
      "name": "python3"
    },
    "language_info": {
      "name": "python",
      "version": "3.6.0",
      "mimetype": "text/x-python",
      "codemirror_mode": {
        "name": "ipython",
        "version": 3
      },
      "pygments_lexer": "ipython3",
      "nbconvert_exporter": "python",
      "file_extension": ".py"
    },
    "nteract": {
      "version": "0.2.0"
    }
  },
  "nbformat": 4,
  "nbformat_minor": 4
}