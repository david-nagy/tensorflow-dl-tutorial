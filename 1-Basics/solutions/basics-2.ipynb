{
  "cells": [
    {
      "cell_type": "markdown",
      "source": [
        "## 1.2 Training"
      ],
      "metadata": {}
    },
    {
      "cell_type": "code",
      "source": [
        "import numpy as np \n",
        "import tensorflow as tf\n",
        "from helper import *"
      ],
      "outputs": [],
      "execution_count": 1,
      "metadata": {
        "collapsed": false,
        "outputHidden": false,
        "inputHidden": false
      }
    },
    {
      "cell_type": "markdown",
      "source": [
        "Tensorflow has built in [optimizers](https://www.tensorflow.org/api_guides/python/train#Optimizers) that do [automatic differentiation](https://www.tensorflow.org/versions/r0.12/api_docs/python/train/gradient_computation) and the application of gradients to variables. These are called optimizers. You can create an optimizer operation with the following code, where the last line runs a single update of the parameters with the gradients. \n",
        "\n",
        "```\n",
        "optimizer = tf.train.GradientDescentOptimizer(0.01)\n",
        "train = optimizer.minimize(loss)\n",
        "sess.run(train, {x: x_train, y: y_train})\n",
        "```\n",
        "The argument of the optimizer here is the learning rate and `loss` is the objective for the training which we can define. For example we can use the MSE loss:\n",
        "\n",
        "```\n",
        "loss = tf.reduce_sum(tf.square(linear_model - y))\n",
        "```\n",
        "\n",
        "**Train a linear model `W*x + b` on the following data using the stochastic gradient descent optimizer. Print the resulting parameters and loss after training.**\n",
        "\n",
        "```\n",
        "x_train = [1, 2, 3, 4]\n",
        "y_train = [0, -1, -2, -3]\n",
        "```\n",
        "\n[Help and a solution](https://www.tensorflow.org/get_started/get_started#tftrain_api)"
      ],
      "metadata": {}
    },
    {
      "cell_type": "code",
      "source": [
        "import tensorflow as tf\n",
        "\n",
        "# Model parameters\n",
        "W = tf.Variable([.3], dtype=tf.float32)\n",
        "b = tf.Variable([-.3], dtype=tf.float32)\n",
        "\n",
        "# Model input and output\n",
        "x = tf.placeholder(tf.float32)\n",
        "linear_model = W*x + b\n",
        "y = tf.placeholder(tf.float32)\n",
        "\n",
        "# loss\n",
        "loss = tf.reduce_sum(tf.square(linear_model - y)) # sum of the squares\n",
        "\n",
        "# optimizer\n",
        "optimizer = tf.train.GradientDescentOptimizer(0.01)\n",
        "train = optimizer.minimize(loss)\n",
        "\n",
        "# training data\n",
        "x_train = [1, 2, 3, 4]\n",
        "y_train = [0, -1, -2, -3]\n",
        "\n",
        "# training loop\n",
        "init = tf.global_variables_initializer()\n",
        "sess = tf.Session()\n",
        "sess.run(init) # reset values to wrong\n",
        "for i in range(1000):\n",
        "  sess.run(train, {x: x_train, y: y_train})\n",
        "\n",
        "# evaluate training accuracy\n",
        "curr_W, curr_b, curr_loss = sess.run([W, b, loss], {x: x_train, y: y_train})\n",
        "print(\"W: %s b: %s loss: %s\"%(curr_W, curr_b, curr_loss))"
      ],
      "outputs": [
        {
          "output_type": "stream",
          "name": "stdout",
          "text": [
            "W: [-0.9999969] b: [ 0.99999082] loss: 5.69997e-11\n"
          ]
        }
      ],
      "execution_count": 2,
      "metadata": {
        "collapsed": false,
        "outputHidden": false,
        "inputHidden": false
      }
    },
    {
      "cell_type": "markdown",
      "source": [
        "You can also follow the progress of your code in [TensorBoard](https://www.tensorflow.org/get_started/summaries_and_tensorboard), a visualisation web app that is installed along with TensorFlow. You can run it by entering \n",
        "```\n",
        "tensorboard --logdir=\"log-dir-path\"\n",
        "```\n",
        "in your terminal, then view it by going to http://127.0.0.1:6006 . This will only work if you are running it on your own computer - if you aren't, you can see a demo by going to http://servername:6006"
      ],
      "metadata": {}
    },
    {
      "cell_type": "code",
      "source": [
        "!tensorboard --logdir=\"log-dir-path\""
      ],
      "outputs": [],
      "execution_count": null,
      "metadata": {
        "collapsed": false,
        "outputHidden": false,
        "inputHidden": false
      }
    },
    {
      "cell_type": "code",
      "source": [
        "#data\n",
        "x_train = np.array([[1.,5.],[2.,1.],[3.,9.],[4.,4.],[5.,0.],[6.,2.],[7.,10.],[8.,1.],[9.,8.]])\n",
        "y_train = np.array([1.,2.,3.,4.,5.,6.,7.,8.,9.])\n",
        "\n",
        "#model definition\n",
        "x = tf.placeholder(tf.float32, shape=[2,1])\n",
        "y = tf.placeholder(tf.float32, [])\n",
        "W = tf.Variable(tf.random_normal(shape=[2,1], stddev=0.35))\n",
        "b = tf.Variable(tf.random_normal(shape=[], stddev=0.35))\n",
        "\n",
        "y_hat = tf.matmul(tf.transpose(W),x)+b\n",
        "\n",
        "#inference\n",
        "loss = tf.reduce_sum(tf.square(y_hat - y)) / 3\n",
        "optimizer = tf.train.GradientDescentOptimizer(0.00001)\n",
        "train = optimizer.minimize(loss)\n",
        "\n",
        "#run\n",
        "sess = tf.InteractiveSession()\n",
        "init = tf.global_variables_initializer()\n",
        "sess.run(init)\n",
        "#writer = tf.train.SummaryWriter(logs_path, graph=tf.get_default_graph())\n",
        "\n",
        "for j in range(0,10000):\n",
        "    for i in range(0,len(x_train)):\n",
        "         _, l = sess.run([train, loss], {x:np.reshape(x_train[i],[2,1]),y:y_train[i]})\n",
        "         if j % 100 ==0:\n",
        "            print(l)\n",
        "#sess.close()"
      ],
      "outputs": [],
      "execution_count": null,
      "metadata": {
        "collapsed": false,
        "outputHidden": false,
        "inputHidden": false
      }
    },
    {
      "cell_type": "code",
      "source": [
        "sess.run([W,b])\n",
        "sess.close()"
      ],
      "outputs": [],
      "execution_count": 4,
      "metadata": {
        "collapsed": false,
        "outputHidden": false,
        "inputHidden": false
      }
    }
  ],
  "metadata": {
    "kernelspec": {
      "name": "python3",
      "language": "python",
      "display_name": "Python 3"
    },
    "kernel_info": {
      "name": "python3"
    },
    "language_info": {
      "name": "python",
      "version": "3.6.0",
      "mimetype": "text/x-python",
      "codemirror_mode": {
        "name": "ipython",
        "version": 3
      },
      "pygments_lexer": "ipython3",
      "nbconvert_exporter": "python",
      "file_extension": ".py"
    },
    "nteract": {
      "version": "0.2.0"
    }
  },
  "nbformat": 4,
  "nbformat_minor": 4
}