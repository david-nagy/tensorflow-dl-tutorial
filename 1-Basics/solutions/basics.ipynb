{
  "cells": [
    {
      "cell_type": "markdown",
      "source": [
        "# 1. Basics\n",
        "\n",
        "## 1.1 Graphs, sessions, variables\n",
        "\n[Slides covering similar ground](http://web.stanford.edu/class/cs224n/lectures/cs224n-2017-tensorflow.pdf)."
      ],
      "metadata": {}
    },
    {
      "cell_type": "code",
      "source": [
        "import numpy as np \n",
        "import tensorflow as tf\n",
        "from helper import *"
      ],
      "outputs": [],
      "execution_count": 4,
      "metadata": {
        "collapsed": false,
        "outputHidden": false,
        "inputHidden": false
      }
    },
    {
      "cell_type": "markdown",
      "source": [
        "Create a model where $c=a+b$, with $a$ and $b$ having [constant](https://www.tensorflow.org/api_docs/python/tf/constant) values (hint: 'tf.constant')"
      ],
      "metadata": {}
    },
    {
      "cell_type": "code",
      "source": [
        "a = tf.constant(3.0)\n",
        "b = tf.constant(2.0)\n",
        "\nc=a+b"
      ],
      "outputs": [],
      "execution_count": 14,
      "metadata": {
        "collapsed": false,
        "outputHidden": false,
        "inputHidden": false
      }
    },
    {
      "cell_type": "markdown",
      "source": [
        "The [computation graph](https://www.tensorflow.org/programmers_guide/graphs) is now created which you can inspect with:\n",
        "`show_graph(tf.get_default_graph().as_graph_def())`"
      ],
      "metadata": {}
    },
    {
      "cell_type": "code",
      "source": [
        "show_graph(tf.get_default_graph().as_graph_def())"
      ],
      "outputs": [
        {
          "output_type": "display_data",
          "data": {
            "text/html": [
              "\n",
              "        <iframe seamless style=\"width:900px;height:500px;border:0\" srcdoc=\"\n",
              "        <script>\n",
              "          function load() {\n",
              "            document.getElementById(&quot;graph0.358696767928835&quot;).pbtxt = 'node {\\n  name: &quot;Placeholder&quot;\\n  op: &quot;Placeholder&quot;\\n  attr {\\n    key: &quot;dtype&quot;\\n    value {\\n      type: DT_FLOAT\\n    }\\n  }\\n  attr {\\n    key: &quot;shape&quot;\\n    value {\\n      shape {\\n      }\\n    }\\n  }\\n}\\nnode {\\n  name: &quot;Placeholder_1&quot;\\n  op: &quot;Placeholder&quot;\\n  attr {\\n    key: &quot;dtype&quot;\\n    value {\\n      type: DT_FLOAT\\n    }\\n  }\\n  attr {\\n    key: &quot;shape&quot;\\n    value {\\n      shape {\\n      }\\n    }\\n  }\\n}\\nnode {\\n  name: &quot;add&quot;\\n  op: &quot;Add&quot;\\n  input: &quot;Placeholder&quot;\\n  input: &quot;Placeholder_1&quot;\\n  attr {\\n    key: &quot;T&quot;\\n    value {\\n      type: DT_FLOAT\\n    }\\n  }\\n}\\nnode {\\n  name: &quot;Const&quot;\\n  op: &quot;Const&quot;\\n  attr {\\n    key: &quot;dtype&quot;\\n    value {\\n      type: DT_FLOAT\\n    }\\n  }\\n  attr {\\n    key: &quot;value&quot;\\n    value {\\n      tensor {\\n        dtype: DT_FLOAT\\n        tensor_shape {\\n        }\\n        float_val: 3.0\\n      }\\n    }\\n  }\\n}\\nnode {\\n  name: &quot;Const_1&quot;\\n  op: &quot;Const&quot;\\n  attr {\\n    key: &quot;dtype&quot;\\n    value {\\n      type: DT_FLOAT\\n    }\\n  }\\n  attr {\\n    key: &quot;value&quot;\\n    value {\\n      tensor {\\n        dtype: DT_FLOAT\\n        tensor_shape {\\n        }\\n        float_val: 2.0\\n      }\\n    }\\n  }\\n}\\nnode {\\n  name: &quot;add_1&quot;\\n  op: &quot;Add&quot;\\n  input: &quot;Const&quot;\\n  input: &quot;Const_1&quot;\\n  attr {\\n    key: &quot;T&quot;\\n    value {\\n      type: DT_FLOAT\\n    }\\n  }\\n}\\n';\n",
              "          }\n",
              "        </script>\n",
              "        <link rel=&quot;import&quot; href=&quot;https://tensorboard.appspot.com/tf-graph-basic.build.html&quot; onload=load()>\n",
              "        <div style=&quot;height:600px&quot;>\n",
              "          <tf-graph-basic id=&quot;graph0.358696767928835&quot;></tf-graph-basic>\n",
              "        </div>\n",
              "    \"></iframe>\n",
              "    "
            ],
            "text/plain": [
              "<IPython.core.display.HTML object>"
            ]
          },
          "metadata": {}
        }
      ],
      "execution_count": 15,
      "metadata": {
        "collapsed": false,
        "outputHidden": false,
        "inputHidden": false
      }
    },
    {
      "cell_type": "markdown",
      "source": [
        "To use the graph for performing computations, you will have to create a session. You can create an interactive session which is useful for jupyter notebooks such as this with `sess = tf.InteractiveSession()`, or just a normal session with either\n",
        "\n",
        "`sess = tf.Session()`\n",
        "\n",
        "or\n",
        "\n",
        "`with tf.Session() as sess:`\n",
        "\n",
        "You can then enter `sess.run()` to run the session and compute something with the graph. Sessions can be closed with `sess.close()`. \n",
        "\n**Start an interactive session and compute the value of $c$.**"
      ],
      "metadata": {}
    },
    {
      "cell_type": "code",
      "source": [
        "sess = tf.InteractiveSession()\n",
        "print(sess.run(c))\n",
        "\nsess.close()"
      ],
      "outputs": [
        {
          "output_type": "stream",
          "name": "stdout",
          "text": [
            "5.0\n"
          ]
        }
      ],
      "execution_count": 16,
      "metadata": {
        "collapsed": false,
        "outputHidden": false,
        "inputHidden": false
      }
    },
    {
      "cell_type": "markdown",
      "source": [
        "Anything else you define now will be added to the same graph. If you want to avoid this, you can reset the default graph with `tf.reset_default_graph()`. **Reset it now.**"
      ],
      "metadata": {}
    },
    {
      "cell_type": "code",
      "source": [
        "tf.reset_default_graph()"
      ],
      "outputs": [],
      "execution_count": 17,
      "metadata": {
        "collapsed": false,
        "outputHidden": false,
        "inputHidden": false
      }
    },
    {
      "cell_type": "markdown",
      "source": [
        "Now instead of using constants, try feeding in an entire dataset as values for $a$ and $b$. For this, we will need to use placeholders. Placeholders are nodes in the graph which get their values during runtime. The values for placeholders have to be fed in through a [python dictionary object](https://docs.python.org/2/tutorial/datastructures.html#dictionaries) inside `sess.run()` as a second argument. **Calculate $c=a+b$ where $a$ and $b$ are placeholders and take their vlaues from numpy vectors.**"
      ],
      "metadata": {}
    },
    {
      "cell_type": "code",
      "source": [
        "#data\n",
        "a_list=np.ones(4)*2\n",
        "b_list=np.ones(4)*3\n",
        "\n",
        "#model definition\n",
        "a=tf.placeholder(tf.float32,[])\n",
        "b=tf.placeholder(tf.float32,[])\n",
        "\n",
        "c=a+b\n",
        "\n",
        "#run\n",
        "sess = tf.InteractiveSession()\n",
        "\n",
        "for i in range(len(a_list)):\n",
        "    print(sess.run(c, {a:a_list[i],b:b_list[i]}))\n",
        "\n",
        "sess.close()\n"
      ],
      "outputs": [
        {
          "output_type": "stream",
          "name": "stdout",
          "text": [
            "5.0\n",
            "5.0\n",
            "5.0\n",
            "5.0\n"
          ]
        }
      ],
      "execution_count": 21,
      "metadata": {
        "collapsed": false,
        "outputHidden": false,
        "inputHidden": false
      }
    },
    {
      "cell_type": "markdown",
      "source": [
        "Now try adding gaussian noise to the output via an $\\epsilon\\sim Normal$ [tensorflow variable](https://www.tensorflow.org/programmers_guide/variables). Variables have to be initialised after starting the sessions with `sess.run(tf.global_variables_initializer())`."
      ],
      "metadata": {}
    },
    {
      "cell_type": "code",
      "source": [
        "#data\n",
        "a_list=np.ones(4)*2\n",
        "b_list=np.ones(4)*3\n",
        "\n",
        "#model definition\n",
        "a=tf.placeholder(tf.float32,[])\n",
        "b=tf.placeholder(tf.float32,[])\n",
        "epsilon=tf.random_normal([],mean=0.0,stddev=0.2)\n",
        "\n",
        "c=a+b+epsilon\n",
        "\n",
        "#run\n",
        "sess = tf.InteractiveSession()\n",
        "\n",
        "sess.run(tf.global_variables_initializer())\n",
        "\n",
        "writer = tf.summary.FileWriter(\"/Users/davidnagy/Documents/tensor_log/\", graph=tf.get_default_graph()) # only required for tensorboard\n",
        "\n",
        "for i in range(len(a_list)):\n",
        "    print(sess.run(c, {a:a_list[i],b:b_list[i]}))\n",
        "\nsess.close()"
      ],
      "outputs": [
        {
          "output_type": "stream",
          "name": "stdout",
          "text": [
            "5.00417\n",
            "5.11106\n",
            "5.059\n",
            "5.18504\n"
          ]
        }
      ],
      "execution_count": 5,
      "metadata": {
        "collapsed": false,
        "outputHidden": false,
        "inputHidden": false
      }
    }
  ],
  "metadata": {
    "kernelspec": {
      "name": "python3",
      "language": "python",
      "display_name": "Python 3"
    },
    "kernel_info": {
      "name": "python3"
    },
    "language_info": {
      "name": "python",
      "version": "3.6.0",
      "mimetype": "text/x-python",
      "codemirror_mode": {
        "name": "ipython",
        "version": 3
      },
      "pygments_lexer": "ipython3",
      "nbconvert_exporter": "python",
      "file_extension": ".py"
    },
    "nteract": {
      "version": "0.2.0"
    }
  },
  "nbformat": 4,
  "nbformat_minor": 4
}